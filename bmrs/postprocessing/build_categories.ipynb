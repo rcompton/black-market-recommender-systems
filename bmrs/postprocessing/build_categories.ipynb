{
 "cells": [
  {
   "cell_type": "code",
   "execution_count": 1,
   "metadata": {
    "collapsed": true
   },
   "outputs": [],
   "source": [
    "import pandas as pd\n",
    "import dateutil\n",
    "import os\n",
    "import matplotlib.pyplot as plt\n",
    "import seaborn as sns\n",
    "import ast\n",
    "\n",
    "import graph_tool as gt\n",
    "import graph_tool.draw\n",
    "import graph_tool.community\n",
    "import itertools\n",
    "import collections\n",
    "\n",
    "import logging\n",
    "FORMAT = '%(asctime)-15s %(levelname)-6s %(message)s'\n",
    "DATE_FORMAT = '%b %d %H:%M:%S'\n",
    "formatter = logging.Formatter(fmt=FORMAT, datefmt=DATE_FORMAT)\n",
    "handler = logging.StreamHandler()\n",
    "handler.setFormatter(formatter)\n",
    "logger = logging.getLogger(__name__)\n",
    "logger.addHandler(handler)\n",
    "logger.setLevel(logging.INFO)"
   ]
  },
  {
   "cell_type": "code",
   "execution_count": 2,
   "metadata": {
    "collapsed": false
   },
   "outputs": [
    {
     "name": "stderr",
     "output_type": "stream",
     "text": [
      "May 12 16:05:27 INFO   Index(['cat', 'listing', 'price', 'quantity_available', 'quantity_sold', 'scraped_date', 'ships_from', 'ships_to', 'vendor'], dtype='object')\n",
      "INFO:__main__:Index(['cat', 'listing', 'price', 'quantity_available', 'quantity_sold', 'scraped_date', 'ships_from', 'ships_to', 'vendor'], dtype='object')\n",
      "May 12 16:05:27 INFO   (92407, 9)\n",
      "INFO:__main__:(92407, 9)\n"
     ]
    }
   ],
   "source": [
    "DATA_DIR='/home/aahu/Dropbox/black-market-recommender-systems/data/cloudnine/'\n",
    "l=[]\n",
    "for fname in os.listdir(DATA_DIR):\n",
    "    if fname.endswith('.tsv'):\n",
    "        try:\n",
    "            df0 = pd.read_csv(os.path.join(DATA_DIR,fname), sep='\\t', parse_dates=['scraped_date'])\n",
    "            l.append(df0)\n",
    "        except ValueError:\n",
    "            #logger.exception('no data in {}'.format(fname))\n",
    "            pass\n",
    "df = pd.concat(l)\n",
    "df['cat'] = df['cat'].map(ast.literal_eval)\n",
    "logger.info(df.columns)\n",
    "logger.info(df.shape)"
   ]
  },
  {
   "cell_type": "code",
   "execution_count": 3,
   "metadata": {
    "collapsed": false
   },
   "outputs": [
    {
     "data": {
      "text/plain": [
       "(Drugs, Prescription)          7312\n",
       "(Other, Books)                 7090\n",
       "(Drugs, Opioids)               5045\n",
       "(Services, Money)              4780\n",
       "(Drugs, Benzos)                3046\n",
       "(Services, Other)              2221\n",
       "(Other, Software)              1335\n",
       "(Services, Sex)                1310\n",
       "(Tobacco, Cigarettes)          1157\n",
       "(Services, Hacking)            1015\n",
       "(Other, Electronics)            940\n",
       "(Drugs, Paraphernalia)          814\n",
       "(Drugs, Steroids)               813\n",
       "(Other, Accounts)               768\n",
       "(Drugs, Other)                  767\n",
       "(Counterfeits, Other)           730\n",
       "(Drugs, RCs)                    665\n",
       "(Drugs, Dissociatives)          565\n",
       "(Tobacco, Paraphernalia)        564\n",
       "(Other, Shipping Materials)     383\n",
       "(Counterfeits, Watches)         278\n",
       "(Counterfeits, Accessories)     272\n",
       "(Drugs, Wholesale)              235\n",
       "(Drugs, Supplements)            207\n",
       "(Other, Precious Metals)        205\n",
       "(Services, Training)            166\n",
       "(Services, Logistics)           110\n",
       "(Drugs, Weight Loss)             95\n",
       "(Services, Coding)               83\n",
       "(Chemicals, Precursors)          53\n",
       "(Tobacco, Other)                 51\n",
       "(Tobacco, Rolling)               40\n",
       "(Other, Alcohol)                 27\n",
       "(Drugs, Barbituates)              6\n",
       "(Other, Food)                     6\n",
       "(Counterfeits, Clothing)          5\n",
       "(Other, Movies)                   1\n",
       "dtype: int64"
      ]
     },
     "execution_count": 3,
     "metadata": {},
     "output_type": "execute_result"
    }
   ],
   "source": [
    "df['cat'].map(lambda x:x if len(x) == 2 else None).value_counts()"
   ]
  },
  {
   "cell_type": "code",
   "execution_count": 25,
   "metadata": {
    "collapsed": false
   },
   "outputs": [
    {
     "name": "stdout",
     "output_type": "stream",
     "text": [
      "g vert/edges:  79 79\n",
      "True\n"
     ]
    }
   ],
   "source": [
    "def build_cat_tree(df):\n",
    "    #build category tree\n",
    "    cats = set(itertools.chain.from_iterable(df['cat']))\n",
    "\n",
    "    #build graph-tool ids\n",
    "    node_lbs = {}\n",
    "    rev_node_lbs = {}\n",
    "    for idx,vendor in enumerate(cats):\n",
    "        node_lbs[vendor] = idx\n",
    "        rev_node_lbs[idx] = vendor\n",
    "        \n",
    "    edge_list = []\n",
    "    for cat_branch in df['cat']:\n",
    "        for i in range(len(cat_branch)-1):\n",
    "            v0 = cat_branch[i]\n",
    "            v1 = cat_branch[i+1]\n",
    "            e = node_lbs[v0], node_lbs[v1]\n",
    "            edge_list.append(e)\n",
    "    \n",
    "    edge_list = set(edge_list)\n",
    "    edge_list = [e for e in edge_list if e[0] != e[1]] # self-loops\n",
    "    g = graph_tool.Graph(directed=True)\n",
    "    g.add_edge_list(edge_list)\n",
    "    \n",
    "    g.vertex_properties['label'] = g.new_vertex_property('string')\n",
    "    for v in g.vertices():\n",
    "        g.vertex_properties['label'][v] = rev_node_lbs[g.vertex_index[v]]\n",
    "    print('g vert/edges: ',g.num_vertices(), g.num_edges())\n",
    "    \n",
    "    pos = graph_tool.draw.arf_layout(g)\n",
    "    graph_tool.draw.graph_draw(g,pos=pos,\n",
    "                               vertex_text=g.vertex_properties['label'],\n",
    "                               vertex_text_position=.1,\n",
    "                               output_size=(1024,1024),\n",
    "                              output='/home/aahu/Desktop/drug_dag.pdf')\n",
    "    print(graph_tool.topology.is_DAG(g))\n",
    "\n",
    "build_cat_tree(df)"
   ]
  },
  {
   "cell_type": "code",
   "execution_count": 14,
   "metadata": {
    "collapsed": true
   },
   "outputs": [],
   "source": []
  },
  {
   "cell_type": "code",
   "execution_count": null,
   "metadata": {
    "collapsed": true
   },
   "outputs": [],
   "source": []
  }
 ],
 "metadata": {
  "kernelspec": {
   "display_name": "Python 3",
   "language": "python",
   "name": "python3"
  },
  "language_info": {
   "codemirror_mode": {
    "name": "ipython",
    "version": 3
   },
   "file_extension": ".py",
   "mimetype": "text/x-python",
   "name": "python",
   "nbconvert_exporter": "python",
   "pygments_lexer": "ipython3",
   "version": "3.4.0"
  }
 },
 "nbformat": 4,
 "nbformat_minor": 0
}
