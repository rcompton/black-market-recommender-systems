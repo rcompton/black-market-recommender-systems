{
 "cells": [
  {
   "cell_type": "code",
   "execution_count": 37,
   "metadata": {
    "collapsed": false
   },
   "outputs": [
    {
     "name": "stdout",
     "output_type": "stream",
     "text": [
      "Populating the interactive namespace from numpy and matplotlib\n"
     ]
    }
   ],
   "source": [
    "import graph_tool.all as gt\n",
    "import pandas as pd\n",
    "import glob\n",
    "import itertools\n",
    "import collections\n",
    "import matplotlib.pyplot as plt\n",
    "import seaborn as sns\n",
    "import math\n",
    "\n",
    "%pylab inline"
   ]
  },
  {
   "cell_type": "code",
   "execution_count": 38,
   "metadata": {
    "collapsed": false
   },
   "outputs": [
    {
     "name": "stdout",
     "output_type": "stream",
     "text": [
      "version: 2.2.44dev (commit 85f11ae8, Thu Jun 18 15:33:16 2015 +0200)\n",
      "gcc version: 4.8.4\n",
      "compilation flags:  -I/usr/include/python3.4m -I/usr/include -I/usr/local/lib/python3.4/dist-packages/numpy/core/include   -DSPARSEHASH_PREFIX=sparsehash -Wall -Wextra -ftemplate-backtrace-limit=0  -DNDEBUG -std=gnu++11 -ftemplate-depth-250 -Wno-deprecated -Wno-unknown-pragmas -O3 -fvisibility=default -fvisibility-inlines-hidden -fopenmp   -DSPARSEHASH_PREFIX=sparsehash  -L/usr/lib -lpython3.4m\n",
      "install prefix: /usr/local\n",
      "python dir: /usr/lib/python3/dist-packages\n",
      "graph filtering: True\n",
      "openmp: True\n",
      "uname: Linux barahv2 3.13.0-45-generic #74-Ubuntu SMP Tue Jan 13 19:36:28 UTC 2015 x86_64\n"
     ]
    }
   ],
   "source": [
    "gt.show_config()"
   ]
  },
  {
   "cell_type": "code",
   "execution_count": 39,
   "metadata": {
    "collapsed": false
   },
   "outputs": [],
   "source": [
    "df = pd.read_csv('/home/aahu/Dropbox/black-market-recommender-systems/data/ev_item_sim.tsv',sep='\\t')\n",
    "#df = pd.read_csv('/home/aahu/Dropbox/black-market-recommender-systems/data/df_all_item_sim.tsv',sep='\\t')"
   ]
  },
  {
   "cell_type": "code",
   "execution_count": 40,
   "metadata": {
    "collapsed": false
   },
   "outputs": [
    {
     "data": {
      "image/png": "[encoded data removed]",
      "text/plain": [
       "<matplotlib.figure.Figure at 0x7f223f357630>"
      ]
     },
     "metadata": {},
     "output_type": "display_data"
    },
    {
     "data": {
      "text/plain": [
       "count    5.460000e+02\n",
       "mean     4.730751e-01\n",
       "std      2.469968e-01\n",
       "min     -2.220446e-16\n",
       "25%      3.382893e-01\n",
       "50%      5.232503e-01\n",
       "75%      6.789978e-01\n",
       "max      8.250250e-01\n",
       "Name: distance, dtype: float64"
      ]
     },
     "execution_count": 40,
     "metadata": {},
     "output_type": "execute_result"
    }
   ],
   "source": [
    "sns.distplot(df['distance'])\n",
    "plt.show()\n",
    "df['distance'].describe()"
   ]
  },
  {
   "cell_type": "code",
   "execution_count": 41,
   "metadata": {
    "collapsed": false
   },
   "outputs": [
    {
     "name": "stdout",
     "output_type": "stream",
     "text": [
      "(78,)\n"
     ]
    },
    {
     "data": {
      "text/plain": [
       "(468, 4)"
      ]
     },
     "execution_count": 41,
     "metadata": {},
     "output_type": "execute_result"
    }
   ],
   "source": [
    "df2 = df[df['distance'] < df['distance'].quantile(1)]\n",
    "df2 = df\n",
    "df2 = df2[df2['category'] != df2['similar']]\n",
    "print(df2['category'].unique().shape)\n",
    "df2.shape"
   ]
  },
  {
   "cell_type": "code",
   "execution_count": 42,
   "metadata": {
    "collapsed": false
   },
   "outputs": [
    {
     "name": "stdout",
     "output_type": "stream",
     "text": [
      "g vert/edges:  78 468\n",
      "[10, 13, 14, 10, 12, 21, 17, 9, 8, 10, 13, 11, 11, 14, 8, 9, 9, 15, 10, 13, 9, 14, 11, 10, 17, 15, 8, 13, 13, 11, 14, 9, 10, 11, 13, 14, 15, 16, 15, 16, 17, 9, 12, 12, 15, 10, 11, 12, 10, 10, 10, 12, 11, 12, 10, 12, 16, 11, 9, 11, 7, 17, 19, 9, 11, 14, 10, 12, 9, 11, 11, 9, 7, 16, 8, 11, 13, 19]\n",
      "level 0 : resizing 78 -> 6 , dS: -544.0455019514075\n",
      "level 1 : resizing 1 -> 1 , dS: 0.0 [kept, rejected (1, 81.0761) vs (1, 81.0761)]\n",
      "level 0 : skipping 6\n",
      "drawing again, with rotation\n"
     ]
    }
   ],
   "source": [
    "def build_cat_cat_net(df_in):\n",
    "    \n",
    "    df = df_in.copy(deep=True)  # python mutable arguments...\n",
    "    \n",
    "    #filter to most common cats\n",
    "    cats = set(df['category']).union(set(df['similar']))\n",
    "    \n",
    "    #build graph-tool ids\n",
    "    node_lbs = {}\n",
    "    rev_node_lbs = {}\n",
    "    for idx,cat in enumerate(cats):\n",
    "        node_lbs[cat] = idx\n",
    "        rev_node_lbs[idx] = cat\n",
    "    \n",
    "    edge_list = []\n",
    "    edge_ws = {}\n",
    "    MAX_DIST = df['distance'].max()\n",
    "    for row in df.iterrows():\n",
    "        edge = tuple(sorted((node_lbs[row[1]['category']], node_lbs[row[1]['similar']])))\n",
    "        edge_list.append(edge)\n",
    "        edge_ws[edge] = MAX_DIST - row[1]['distance']\n",
    "\n",
    "    g = gt.Graph(directed=False)\n",
    "    g.add_edge_list(edge_list)\n",
    "    \n",
    "    g.vertex_properties['label'] = g.new_vertex_property('string')\n",
    "    for v in g.vertices():\n",
    "        g.vertex_properties['label'][v] = rev_node_lbs[g.vertex_index[v]]\n",
    "    print('g vert/edges: ',g.num_vertices(), g.num_edges())\n",
    "    \n",
    "    #add edge weight property\n",
    "    g.edge_properties['weight'] = g.new_edge_property('double')\n",
    "    g.edge_properties['color'] = g.new_edge_property('vector<double>')\n",
    "    for e in g.edges():\n",
    "        w = edge_ws[tuple(sorted([e.source(),e.target()]))]\n",
    "        g.edge_properties['weight'][e] = w\n",
    "        alpha = w + .125\n",
    "        g.edge_properties['color'][e] = [103/255.0,134/255.0,239/255.0,alpha]  \n",
    "        \n",
    "    print([v.out_degree() for v in g.vertices()])\n",
    "    \n",
    "    state = gt.minimize_nested_blockmodel_dl(g, \n",
    "                                             deg_corr=True,\n",
    "                                             weight=g.ep['weight'],\n",
    "                                             verbose=True)\n",
    "    \n",
    "    #this 'draw' is only to get the node coords sorted out\n",
    "    pos,t,tpos = gt.draw_hierarchy(state,\n",
    "                      vertex_text=g.vertex_properties['label'],\n",
    "                      vertex_text_position=1,\n",
    "                      vertex_font_size=20,\n",
    "                      vertex_font_family='mono',\n",
    "                      vertex_anchor=0,\n",
    "                      vcmap=matplotlib.cm.Spectral,\n",
    "                      ecmap=matplotlib.cm.Spectral,\n",
    "                      bg_color=[0,0,0,1],\n",
    "                      output_size=[1024*2,1024*2],\n",
    "                      output='/tmp/badtext.png')\n",
    "    \n",
    "    #text rotation\n",
    "    text_rot = g.new_vertex_property('double')\n",
    "    g.vertex_properties['text_rot'] = text_rot\n",
    "    text_pos = g.new_vertex_property('double')\n",
    "    g.vertex_properties['text_pos'] = text_pos\n",
    "    for v in g.vertices():\n",
    "        if pos[v][0] > 0:\n",
    "            text_rot[v] = math.atan(pos[v][1]/pos[v][0])\n",
    "        else:\n",
    "            text_rot[v] = math.atan(pos[v][1]/pos[v][0])\n",
    "            text_pos[v] = 10\n",
    "    \n",
    "    print('drawing again, with rotation')\n",
    "    pos,t,tpos = gt.draw_hierarchy(state,\n",
    "                  vertex_text=g.vertex_properties['label'],\n",
    "                  vertex_text_rotation=g.vertex_properties['text_rot'],\n",
    "                  vertex_text_position=g.vp['text_pos'],\n",
    "                  vertex_font_size=13,\n",
    "                  vertex_font_family='mono',\n",
    "                  vertex_anchor=0,\n",
    "                  halpha=0, hsize_scale=0,\n",
    "                  vcmap=matplotlib.cm.Spectral,\n",
    "                  ecmap=matplotlib.cm.Spectral,\n",
    "                  bg_color=[0,0,0,1],\n",
    "                  output_size=[2600,2600],\n",
    "                  fit_view=.75,\n",
    "                  output='/home/aahu/Desktop/similarity_df_all.png')\n",
    "            \n",
    "    return\n",
    "\n",
    "build_cat_cat_net(df2)"
   ]
  },
  {
   "cell_type": "code",
   "execution_count": 43,
   "metadata": {
    "collapsed": false
   },
   "outputs": [
    {
     "name": "stdout",
     "output_type": "stream",
     "text": [
      "g vert/edges:  76 2246\n",
      "level 0 : resizing 76 -> 9 , dS: -4744.86026056495\n",
      "level 1 : resizing 1 -> 2 , dS: -2.19109615384\n",
      "level 2 : resizing 1 -> 1 , dS: 0.0 [kept, rejected (1, 21.3895) vs (1, 21.3895)]\n",
      "level 1 : skipping 2\n",
      "level 0 : resizing 9 -> 9 , dS: 0.0 [kept, rejected (9, 656861) vs (9, 656561)]\n",
      "drawing again, with rotation\n"
     ]
    }
   ],
   "source": [
    "def build_cat_net_from_shared_vendors(df):\n",
    "    #build graph-tool ids\n",
    "    node_lbs = {}\n",
    "    rev_node_lbs = {}\n",
    "    for idx,vendor in enumerate(df['category'].drop_duplicates()):\n",
    "        node_lbs[vendor] = idx\n",
    "        rev_node_lbs[idx] = vendor\n",
    "    df['id'] = df['category'].map(lambda x:node_lbs[x])\n",
    "    \n",
    "    edge_list = []\n",
    "    dfg = df.groupby('vendor')\n",
    "    for name,group in dfg:\n",
    "        ei = itertools.combinations(group['id'].drop_duplicates(),2)\n",
    "        for e in ei:\n",
    "            edge_list.append(tuple(sorted(e)))\n",
    "\n",
    "    #filter edges by num shared vendors\n",
    "    MIN_SHARED_VENDORS=3\n",
    "    c = collections.Counter(edge_list)\n",
    "    edge_list = [e for e in c if c[e]>=MIN_SHARED_VENDORS]\n",
    "\n",
    "    #build graph\n",
    "    g = gt.Graph(directed=False)\n",
    "    g.add_edge_list(edge_list)\n",
    "    g.vertex_properties['label'] = g.new_vertex_property('string')\n",
    "    for v in g.vertices():\n",
    "        g.vertex_properties['label'][v] = rev_node_lbs[g.vertex_index[v]]\n",
    "    print('g vert/edges: ',g.num_vertices(), g.num_edges())\n",
    "\n",
    "    #add edge weight property\n",
    "    g.edge_properties['weight'] = g.new_edge_property('double')\n",
    "    g.edge_properties['color'] = g.new_edge_property('vector<double>')\n",
    "    for e in g.edges():\n",
    "        w = c[tuple(sorted([e.source(),e.target()]))]\n",
    "        g.edge_properties['weight'][e] = w\n",
    "        alpha = (float(w)/max(c.values())) + .025\n",
    "        g.edge_properties['color'][e] = [103/255.0,134/255.0,239/255.0,alpha] \n",
    "        \n",
    "    state = gt.minimize_nested_blockmodel_dl(g,\n",
    "                                             deg_corr=True,\n",
    "                                             eweight=g.ep['weight'], \n",
    "                                             verbose=True,\n",
    "                                            max_B=9)\n",
    "    \n",
    "    pos,t,tpos = gt.draw_hierarchy(state,\n",
    "                      vertex_text=g.vertex_properties['label'],\n",
    "                      vertex_text_position=1,\n",
    "                      vertex_font_size=20,\n",
    "                      vertex_font_family='mono',\n",
    "                      vertex_anchor=0,\n",
    "                      vcmap=matplotlib.cm.Spectral,\n",
    "                      ecmap=matplotlib.cm.Spectral,\n",
    "                      bg_color=[0,0,0,1],\n",
    "                      output_size=[1024*2,1024*2],\n",
    "                      output='/home/aahu/Desktop/cats_from_vends.png')\n",
    "    \n",
    "    #text rotation\n",
    "    text_rot = g.new_vertex_property('double')\n",
    "    g.vertex_properties['text_rot'] = text_rot\n",
    "    text_pos = g.new_vertex_property('double')\n",
    "    g.vertex_properties['text_pos'] = text_pos\n",
    "    for v in g.vertices():\n",
    "        if pos[v][0] > 0:\n",
    "            text_rot[v] = math.atan(pos[v][1]/pos[v][0])\n",
    "        else:\n",
    "            text_rot[v] = math.atan(pos[v][1]/pos[v][0])\n",
    "            text_pos[v] = 10 #len(g.vp['label'][v].strip())\n",
    "\n",
    "#     #text rotation\n",
    "# text_rot = g.new_vertex_property('double')\n",
    "# g.vertex_properties['text_rot'] = text_rot\n",
    "# for v in g.vertices():\n",
    "#     if pos[v][0] >0:\n",
    "#         text_rot[v] = math.atan(pos[v][1]/pos[v][0])\n",
    "#     else:\n",
    "#         text_rot[v] = math.pi + math.atan(pos[v][1]/pos[v][0])\n",
    "    \n",
    "    print('drawing again, with rotation')\n",
    "    pos,t,tpos = gt.draw_hierarchy(state,\n",
    "                  vertex_text=g.vertex_properties['label'],\n",
    "                  vertex_text_rotation=g.vertex_properties['text_rot'],\n",
    "                  vertex_text_position=g.vp['text_pos'],\n",
    "                  vertex_font_size=18,\n",
    "                  vertex_font_family='mono',\n",
    "                  vertex_anchor=0,\n",
    "                  vcmap=matplotlib.cm.Spectral,\n",
    "                  ecmap=matplotlib.cm.Spectral,\n",
    "                  bg_color=[0,0,0,1],\n",
    "                  output_size=[1024*2,1024*2],\n",
    "                  output='/home/aahu/Desktop/cats_from_vends.png')\n",
    "    return\n",
    "\n",
    "df3 = pd.read_csv('/home/aahu/Dropbox/black-market-recommender-systems/data/evolution.tsv',sep='\\t')\n",
    "build_cat_net_from_shared_vendors(df3)"
   ]
  },
  {
   "cell_type": "code",
   "execution_count": null,
   "metadata": {
    "collapsed": true
   },
   "outputs": [],
   "source": []
  }
 ],
 "metadata": {
  "kernelspec": {
   "display_name": "Python 3",
   "language": "python",
   "name": "python3"
  },
  "language_info": {
   "codemirror_mode": {
    "name": "ipython",
    "version": 3
   },
   "file_extension": ".py",
   "mimetype": "text/x-python",
   "name": "python",
   "nbconvert_exporter": "python",
   "pygments_lexer": "ipython3",
   "version": "3.4.0"
  }
 },
 "nbformat": 4,
 "nbformat_minor": 0
}
