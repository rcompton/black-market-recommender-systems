{
 "cells": [
  {
   "cell_type": "code",
   "execution_count": 1,
   "metadata": {
    "collapsed": true
   },
   "outputs": [],
   "source": [
    "import graph_tool.all as gt\n",
    "import pandas as pd\n",
    "import glob\n",
    "import itertools\n",
    "import collections\n",
    "import matplotlib\n",
    "import math"
   ]
  },
  {
   "cell_type": "code",
   "execution_count": 2,
   "metadata": {
    "collapsed": false
   },
   "outputs": [],
   "source": [
    "DATA_DIR = '/home/aahu/Dropbox/black-market-recommender-systems/data/'\n",
    "l = []\n",
    "for fname in glob.glob(DATA_DIR+'*.tsv'):\n",
    "    df = pd.read_csv(fname,sep='\\t')\n",
    "    l.append(df)\n",
    "df_raw = pd.concat(l)"
   ]
  },
  {
   "cell_type": "code",
   "execution_count": 3,
   "metadata": {
    "collapsed": false
   },
   "outputs": [],
   "source": [
    "cols = ['category','vendor']\n",
    "#drop dups and add count\n",
    "df = df_raw[cols].copy(deep=True)\n",
    "df['vendor'] = df['vendor'].map(lambda x: str(x).split('/')[-1].replace('#',''))\n",
    "dfc = df.groupby(cols).size()\n",
    "dfc = dfc.reset_index()\n",
    "dfc['count'] = dfc[0]\n",
    "cols.append('count')\n",
    "df = dfc[cols].copy(deep=True)"
   ]
  },
  {
   "cell_type": "code",
   "execution_count": 33,
   "metadata": {
    "collapsed": false
   },
   "outputs": [
    {
     "name": "stdout",
     "output_type": "stream",
     "text": [
      "g vert/edges:  100 3224\n",
      "done!\n"
     ]
    }
   ],
   "source": [
    "def build_cat_cat_net(df_in, n_nodes=100):\n",
    "    \n",
    "    df = df_in.copy(deep=True)  # python mutable arguments...\n",
    "    \n",
    "    #filter to most common cats\n",
    "    cats = collections.Counter(df['category']).most_common(n_nodes)\n",
    "    cats = [c[0] for c in cats]\n",
    "    df = df[df['category'].map(lambda x: x in cats)]\n",
    "    \n",
    "    #build graph-tool ids\n",
    "    node_lbs = {}\n",
    "    rev_node_lbs = {}\n",
    "    for idx,cat in enumerate(cats):\n",
    "        node_lbs[cat] = idx\n",
    "        rev_node_lbs[idx] = cat\n",
    "    df['id'] = df['category'].map(lambda x:node_lbs[x])\n",
    "    \n",
    "    edge_list = []\n",
    "    dfg = df.groupby('vendor')\n",
    "    for name,group in dfg:\n",
    "        ei = itertools.combinations(group['id'].drop_duplicates(),2)\n",
    "        for e in ei:\n",
    "            edge_list.append(tuple(sorted(e)))\n",
    "            \n",
    "    #filter edges by num shared vendors\n",
    "    MIN_SHARED_VENDORS=3\n",
    "    c = collections.Counter(edge_list)\n",
    "    edge_list = [e for e in c if c[e]>=MIN_SHARED_VENDORS]\n",
    "\n",
    "    g = gt.Graph(directed=False)\n",
    "    g.add_edge_list(edge_list)\n",
    "    \n",
    "    g.vertex_properties['label'] = g.new_vertex_property('string')\n",
    "    for v in g.vertices():\n",
    "        g.vertex_properties['label'][v] = rev_node_lbs[g.vertex_index[v]]\n",
    "    print('g vert/edges: ',g.num_vertices(), g.num_edges())\n",
    "    \n",
    "    #add edge weight property\n",
    "    g.edge_properties['weight'] = g.new_edge_property('double')\n",
    "    g.edge_properties['color'] = g.new_edge_property('vector<double>')\n",
    "    for e in g.edges():\n",
    "        w = c[tuple(sorted([e.source(),e.target()]))]\n",
    "        g.edge_properties['weight'][e] = w\n",
    "        alpha = (float(w)/max(c.values())) + .025\n",
    "        g.edge_properties['color'][e] = [103/255.0,134/255.0,239/255.0,alpha]  \n",
    "        \n",
    "    state = gt.minimize_nested_blockmodel_dl(g,deg_corr=False,\n",
    "                                                       eweight=g.ep['weight'])\n",
    "    t = gt.get_hierarchy_tree(state)[0]\n",
    "    tpos = pos = gt.radial_tree_layout(t, t.vertex(t.num_vertices() - 1), weighted=True)\n",
    "    cts = gt.get_hierarchy_control_points(g, t, tpos,beta=.86)\n",
    "    pos = g.own_property(tpos)\n",
    "    b = state.levels[0].b\n",
    "\n",
    "    #text rotation\n",
    "    text_rot = g.new_vertex_property('double')\n",
    "    g.vertex_properties['text_rot'] = text_rot\n",
    "    text_pos = g.new_vertex_property('double')\n",
    "    g.vertex_properties['text_pos'] = text_pos\n",
    "    for v in g.vertices():\n",
    "        if pos[v][0] > 0:\n",
    "            text_rot[v] = math.atan(pos[v][1]/pos[v][0])\n",
    "        else:\n",
    "            text_rot[v] = math.atan(pos[v][1]/pos[v][0])\n",
    "            text_pos[v] = 10 #len(g.vp['label'][v].strip())\n",
    "            \n",
    "    gt.graph_draw(g, pos=pos, vertex_fill_color=b,\n",
    "                edge_control_points=cts,\n",
    "                vertex_size=20,\n",
    "                vertex_text=g.vertex_properties['label'],\n",
    "                vertex_text_rotation=g.vertex_properties['text_rot'],\n",
    "                vertex_text_position=g.vp['text_pos'],\n",
    "                vertex_font_size=20,\n",
    "                vertex_font_family='mono',\n",
    "                vertex_anchor=0,\n",
    "                vertex_color=b,\n",
    "                vcmap=matplotlib.cm.Set1,\n",
    "                edge_color=g.edge_properties['color'],\n",
    "                bg_color=[0,0,0,1],\n",
    "                output_size=[2*1024,2*1024],\n",
    "                output='/home/aahu/Desktop/all_min_edgew={0}.png'.format(MIN_SHARED_VENDORS))   \n",
    "    print('done!')\n",
    "#     gt.draw_hierarchy(state,\n",
    "#                       vertex_text=g.vertex_properties['label'],\n",
    "#                       vertex_text_rotation=g.vp['text_rot'],\n",
    "#                       vertex_text_position=1,\n",
    "#                       vertex_font_size=20,\n",
    "#                       vertex_font_family='mono',\n",
    "#                       vertex_anchor=0,\n",
    "#                       vcmap=matplotlib.cm.Spectral,\n",
    "#                       ecmap=matplotlib.cm.Spectral,\n",
    "#                       bg_color=[0,0,0,1],\n",
    "#                       output_size=[1024*2,1024*2],\n",
    "#                       output='/home/aahu/Desktop/labeled_all_nvends={0}.png'.format(MIN_SHARED_VENDORS))\n",
    "\n",
    "            \n",
    "    return\n",
    "\n",
    "build_cat_cat_net(df)"
   ]
  },
  {
   "cell_type": "code",
   "execution_count": null,
   "metadata": {
    "collapsed": false
   },
   "outputs": [],
   "source": []
  },
  {
   "cell_type": "code",
   "execution_count": null,
   "metadata": {
    "collapsed": true
   },
   "outputs": [],
   "source": []
  }
 ],
 "metadata": {
  "kernelspec": {
   "display_name": "Python 3",
   "language": "python",
   "name": "python3"
  },
  "language_info": {
   "codemirror_mode": {
    "name": "ipython",
    "version": 3
   },
   "file_extension": ".py",
   "mimetype": "text/x-python",
   "name": "python",
   "nbconvert_exporter": "python",
   "pygments_lexer": "ipython3",
   "version": "3.4.0"
  }
 },
 "nbformat": 4,
 "nbformat_minor": 0
}
