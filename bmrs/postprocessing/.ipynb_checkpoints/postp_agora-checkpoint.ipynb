{
 "cells": [
  {
   "cell_type": "code",
   "execution_count": 1,
   "metadata": {
    "collapsed": true
   },
   "outputs": [],
   "source": [
    "import pandas as pd\n",
    "import dateutil\n",
    "import os\n",
    "import matplotlib.pyplot as plt\n",
    "import seaborn as sns\n",
    "\n",
    "import graph_tool as gt\n",
    "import graph_tool.draw\n",
    "import graph_tool.community\n",
    "import itertools\n",
    "import collections\n",
    "\n",
    "import logging\n",
    "FORMAT = '%(asctime)-15s %(levelname)-6s %(message)s'\n",
    "DATE_FORMAT = '%b %d %H:%M:%S'\n",
    "formatter = logging.Formatter(fmt=FORMAT, datefmt=DATE_FORMAT)\n",
    "handler = logging.StreamHandler()\n",
    "handler.setFormatter(formatter)\n",
    "logger = logging.getLogger(__name__)\n",
    "logger.addHandler(handler)\n",
    "logger.setLevel(logging.INFO)"
   ]
  },
  {
   "cell_type": "code",
   "execution_count": 2,
   "metadata": {
    "collapsed": false
   },
   "outputs": [
    {
     "name": "stderr",
     "output_type": "stream",
     "text": [
      "May 16 21:08:14 INFO   Index(['category', 'listing', 'price_btc', 'scrape_date', 'ships_from', 'ships_to', 'vendor'], dtype='object')\n",
      "INFO:__main__:Index(['category', 'listing', 'price_btc', 'scrape_date', 'ships_from', 'ships_to', 'vendor'], dtype='object')\n",
      "May 16 21:08:14 INFO   (1773538, 7)\n",
      "INFO:__main__:(1773538, 7)\n"
     ]
    }
   ],
   "source": [
    "DATA_DIR='/home/aahu/Dropbox/black-market-recommender-systems/data/agora/'\n",
    "l=[]\n",
    "for fname in os.listdir(DATA_DIR):\n",
    "    if fname.endswith('.tsv'):\n",
    "        df0 = pd.read_csv(os.path.join(DATA_DIR,fname), sep='\\t', parse_dates=['scrape_date'])\n",
    "        l.append(df0)\n",
    "df = pd.concat(l)\n",
    "logger.info(df.columns)\n",
    "logger.info(df.shape)"
   ]
  },
  {
   "cell_type": "code",
   "execution_count": 8,
   "metadata": {
    "collapsed": false
   },
   "outputs": [
    {
     "name": "stderr",
     "output_type": "stream",
     "text": [
      "May 16 21:11:50 INFO   (1621645, 7)\n",
      "INFO:__main__:(1621645, 7)\n"
     ]
    },
    {
     "data": {
      "text/plain": [
       "Weed                  209911\n",
       "Prescription          102483\n",
       "Benzos                 97789\n",
       "Cocaine                94635\n",
       "MDMA                   91953\n",
       "Pills                  90374\n",
       "Steroids               77417\n",
       "RCs                    56010\n",
       "Watches                53163\n",
       "LSD                    47886\n",
       "Hash                   46623\n",
       "Concentrates           42281\n",
       "Speed                  41430\n",
       "Meth                   38145\n",
       "eBooks                 31954\n",
       "Synthetics             28986\n",
       "Heroin                 28845\n",
       "Guides                 23747\n",
       "Edibles                23189\n",
       "Smoked                 23185\n",
       "NB                     23146\n",
       "Pirated                23105\n",
       "Money                  22361\n",
       "2C                     19233\n",
       "Accounts               16643\n",
       "Seeds                  14835\n",
       "Physical documents     13723\n",
       "Mushrooms              13638\n",
       "Oxycodone              12981\n",
       "DMT                    11871\n",
       "Scans/Photos           11834\n",
       "Fentanyl                9706\n",
       "Opioids                 9040\n",
       "Software                8853\n",
       "Jewelry                 8816\n",
       "Hacking                 8197\n",
       "MDA                     7993\n",
       "Weight loss             7433\n",
       "MXE                     7240\n",
       "Clothing                7082\n",
       "Pipes                   6648\n",
       "Accessories             6388\n",
       "Ketamine                6276\n",
       "5-MeO                   5954\n",
       "Stashes                 5206\n",
       "Making money            5077\n",
       "Containers              5047\n",
       "Melee                   4192\n",
       "Mescaline               3975\n",
       "Paraphernalia           3890\n",
       "dtype: int64"
      ]
     },
     "execution_count": 8,
     "metadata": {},
     "output_type": "execute_result"
    }
   ],
   "source": [
    "#discard meta-categories\"\n",
    "meta_cats = ['Other','Drugs','Guides & Tutorials','Fraud Related',\n",
    "             'Services','Digital Goods','Electronics', 'Custom Listings', 'Pills']\n",
    "df = df[df['category'].map(lambda x:x not in meta_cats)]\n",
    "logger.info(df.shape)\n",
    "\n",
    "df['category'].value_counts().head(50)\n"
   ]
  },
  {
   "cell_type": "code",
   "execution_count": 3,
   "metadata": {
    "collapsed": false
   },
   "outputs": [],
   "source": [
    "#takes too long\n",
    "def build_category_category_graph(df, min_shared_vendors):\n",
    "    node_lbs = {}\n",
    "    rev_node_lbs = {}\n",
    "    for idx,vendor in enumerate(df['category'].drop_duplicates()):\n",
    "        node_lbs[vendor] = idx\n",
    "        rev_node_lbs[idx] = vendor\n",
    "    df['id'] = df['category'].map(lambda x:node_lbs[x])\n",
    "     \n",
    "    edge_list = []\n",
    "    dfg = df.groupby('vendor')\n",
    "    for name,group in dfg:\n",
    "        ei = itertools.combinations(group['id'].drop_duplicates(),2)\n",
    "        for e in ei:\n",
    "            edge_list.append(tuple(sorted(e)))\n",
    "\n",
    "    #filter edges by num shared vendor\n",
    "    c = collections.Counter(edge_list)\n",
    "    edge_list = [e for e in c if c[e]>=min_shared_vendors]\n",
    "\n",
    "    #build graph\n",
    "    g = gt.Graph(directed=False)\n",
    "    g.add_edge_list(edge_list)\n",
    "    g.vertex_properties['label'] = g.new_vertex_property('string')\n",
    "    for v in g.vertices():\n",
    "        g.vertex_properties['label'][v] = rev_node_lbs[g.vertex_index[v]]\n",
    "    print('g vert/edges: ',g.num_vertices(), g.num_edges())\n",
    "\n",
    "    #add edge weight property\n",
    "    g.edge_properties['weight'] = g.new_edge_property('double')\n",
    "    g.edge_properties['color'] = g.new_edge_property('vector<double>')\n",
    "    for e in g.edges():\n",
    "        w = c[tuple(sorted([e.source(),e.target()]))]\n",
    "        g.edge_properties['weight'][e] = w\n",
    "        alpha = (float(w)/max(c.values())) + .07\n",
    "        g.edge_properties['color'][e] = [103/255.0,134/255.0,239/255.0,alpha] \n",
    "    return g\n",
    "\n",
    "\n",
    "\n",
    "def block_model_plot(df,min_shared_vendors=3):\n",
    "    \"\"\"\n",
    "    Graph-tool plot\n",
    "    \"\"\"\n",
    "    g = build_category_category_graph(df,min_shared_vendors)\n",
    "        \n",
    "    logger.info(g)\n",
    "    logger.info('begin stochastic block model')\n",
    "    state = gt.community.minimize_nested_blockmodel_dl(g,deg_corr=True,\n",
    "                                                    eweight=g.ep['weight'])\n",
    "    bstack = state.get_bstack()\n",
    "    t = gt.community.get_hierarchy_tree(bstack)[0]\n",
    "    tpos = pos = gt.draw.radial_tree_layout(t, t.vertex(t.num_vertices() - 1), weighted=True)\n",
    "    cts = gt.draw.get_hierarchy_control_points(g, t, tpos,beta=.86)\n",
    "    pos = g.own_property(tpos)\n",
    "    b = bstack[0].vp[\"b\"]\n",
    "\n",
    "    #text rotation\n",
    "    text_rot = g.new_vertex_property('double')\n",
    "    g.vertex_properties['text_rot'] = text_rot\n",
    "    text_pos = g.new_vertex_property('double')\n",
    "    g.vertex_properties['text_pos'] = text_pos\n",
    "    for v in g.vertices():\n",
    "        if pos[v][0] > 0:\n",
    "            text_rot[v] = math.atan(pos[v][1]/pos[v][0])\n",
    "        else:\n",
    "            text_rot[v] = math.atan(pos[v][1]/pos[v][0])\n",
    "            text_pos[v] = 10#len(g.vp['label'][v].strip())\n",
    "\n",
    "    logger.info('saving to disk...')\n",
    "    gt.draw.graph_draw(g, pos=pos, vertex_fill_color=b,\n",
    "                edge_control_points=cts,\n",
    "                vertex_size=20,\n",
    "                vertex_text=g.vertex_properties['label'],\n",
    "                vertex_text_rotation=g.vertex_properties['text_rot'],\n",
    "                vertex_text_position=g.vp['text_pos'],\n",
    "                vertex_font_size=20,\n",
    "                vertex_font_family='mono',\n",
    "                vertex_anchor=0,\n",
    "                vertex_color=b,\n",
    "                vcmap=matplotlib.cm.Spectral,\n",
    "                edge_color=g.edge_properties['color'],\n",
    "                bg_color=[0,0,0,1],\n",
    "                output_size=[1024*2,1024*2],\n",
    "                output='/home/aahu/Desktop/ago_nvends={0}.png'.format(MIN_SHARED_VENDORS))\n",
    "\n",
    "    return"
   ]
  },
  {
   "cell_type": "code",
   "execution_count": null,
   "metadata": {
    "collapsed": false
   },
   "outputs": [
    {
     "name": "stderr",
     "output_type": "stream",
     "text": [
      "May 16 15:25:15 INFO   <Graph object, undirected, with 93 vertices and 535 edges at 0x7f8938f95eb8>\n",
      "INFO:__main__:<Graph object, undirected, with 93 vertices and 535 edges at 0x7f8938f95eb8>\n",
      "May 16 15:25:15 INFO   begin stochastic block model\n",
      "INFO:__main__:begin stochastic block model\n"
     ]
    }
   ],
   "source": [
    "block_model_plot(df[['vendor','category']].drop_duplicates(), min_shared_vendors=10)"
   ]
  },
  {
   "cell_type": "code",
   "execution_count": null,
   "metadata": {
    "collapsed": false
   },
   "outputs": [],
   "source": []
  },
  {
   "cell_type": "code",
   "execution_count": null,
   "metadata": {
    "collapsed": true
   },
   "outputs": [],
   "source": []
  }
 ],
 "metadata": {
  "kernelspec": {
   "display_name": "Python 3",
   "language": "python",
   "name": "python3"
  },
  "language_info": {
   "codemirror_mode": {
    "name": "ipython",
    "version": 3
   },
   "file_extension": ".py",
   "mimetype": "text/x-python",
   "name": "python",
   "nbconvert_exporter": "python",
   "pygments_lexer": "ipython3",
   "version": "3.4.0"
  }
 },
 "nbformat": 4,
 "nbformat_minor": 0
}
